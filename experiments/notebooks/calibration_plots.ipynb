{
 "cells": [
  {
   "cell_type": "code",
   "execution_count": null,
   "source": [
    "import sys\n",
    "import os\n",
    "\n",
    "import matplotlib.pyplot as plt\n",
    "\n",
    "sys.path.insert(0, os.path.join(os.path.dirname(os.path.abspath('')), '..', '..'))\n",
    "\n",
    "import pandas as pd\n",
    "import numpy as np\n",
    "import matplotlib.pyplot as plt\n",
    "import seaborn as sns\n",
    "sns.set_theme(style=\"whitegrid\")\n",
    "pd.options.mode.chained_assignment = None"
   ],
   "metadata": {
    "collapsed": false,
    "pycharm": {
     "name": "#%%\n"
    }
   },
   "outputs": []
  },
  {
   "cell_type": "code",
   "execution_count": null,
   "source": [
    "def get_cleaned_dataframe(csv_file_path, is_cifar10, rows_to_keep=None):\n",
    "    # read the csv file\n",
    "    df = pd.read_csv(csv_file_path)\n",
    "    # get only the relevant columns\n",
    "    df = df[['Unnamed: 0', 'Entropy Attack FPR', 'Threshold Attack FPR', 'Salem Attack FPR']]\n",
    "    # rename the columns\n",
    "    df.rename(columns={'Unnamed: 0': 'Dataset','Threshold Attack FPR': 'Max. Confidence', 'Salem Attack FPR': 'Top-3 Confidences', 'Entropy Attack FPR': 'Entropy'}, inplace=True)\n",
    "\n",
    "    if is_cifar10:\n",
    "        df['Dataset'] = df['Dataset'].str.replace('CIFAR100', 'CIFAR-100').str.replace('Original', 'CIFAR-10')\n",
    "    else:\n",
    "        df['Dataset'] = df['Dataset'].str.replace('Original', 'Stanford Dogs').str.replace('-', ' ')\n",
    "\n",
    "    df.index = df['Dataset'].values.tolist()\n",
    "\n",
    "    if rows_to_keep is not None:\n",
    "        df = df[df['Dataset'].isin(rows_to_keep)]\n",
    "        df = df.reindex(rows_to_keep)\n",
    "\n",
    "    return df\n",
    "\n",
    "\n",
    "def plot_dataframes(\n",
    "        df1,\n",
    "        df2,\n",
    "        alpha=0.5,\n",
    "        figsize=(7, 5.7),\n",
    "        show_legend=True,\n",
    "        legend_loc='upper left',\n",
    "        legend_frame=False,\n",
    "        show_y_label=False,\n",
    "        show_y_axis=False,\n",
    "        show_x_axis=False\n",
    "):\n",
    "    if not show_x_axis:\n",
    "        figsize = (figsize[0], figsize[1]*0.66)\n",
    "    fig, ax = plt.subplots(figsize=figsize)\n",
    "    ax = sns.barplot(\n",
    "        x=df1['Dataset'],\n",
    "        y=df1['FPR'],\n",
    "        hue=df1['Attack'],\n",
    "        alpha=alpha,\n",
    "        palette=sns.color_palette(\"tab10\")\n",
    "    )\n",
    "    ax = sns.barplot(\n",
    "        x=df2['Dataset'],\n",
    "        y=df2['FPR'],\n",
    "        hue=df2['Attack'],\n",
    "        alpha=1,\n",
    "        palette=sns.color_palette(\"tab10\")\n",
    "    )\n",
    "    ax.tick_params(axis='x', labelrotation=60, labelsize=20)\n",
    "    ax.set_xticklabels(ax.get_xticklabels(), ha='right')\n",
    "    ax.tick_params(axis='y', labelsize=20)\n",
    "\n",
    "    if not show_y_label:\n",
    "        ax.set(ylabel=None)\n",
    "\n",
    "    ax.xaxis.label.set_size(25)\n",
    "    ax.yaxis.label.set_size(25)\n",
    "    ax.xaxis.label.set_weight('bold')\n",
    "    ax.yaxis.label.set_weight('bold')\n",
    "\n",
    "    if not show_x_axis:\n",
    "        for tick in ax.xaxis.get_major_ticks():\n",
    "            tick.tick1line.set_visible(False)\n",
    "            tick.tick2line.set_visible(False)\n",
    "            tick.label1.set_visible(False)\n",
    "            tick.label2.set_visible(False)\n",
    "\n",
    "    for tick_label in ax.get_xticklabels():\n",
    "        tick_label.set_fontweight('bold')\n",
    "    for tick_label in ax.get_yticklabels():\n",
    "        tick_label.set_fontweight('bold')\n",
    "\n",
    "    ax.set_ylim([0, 1])\n",
    "    ax.yaxis.set_ticks(np.arange(0, 1.1, 0.2))\n",
    "    ax.grid(True)\n",
    "\n",
    "    if not show_y_axis:\n",
    "        for tick in ax.yaxis.get_major_ticks():\n",
    "            tick.tick1line.set_visible(False)\n",
    "            tick.tick2line.set_visible(False)\n",
    "            tick.label1.set_visible(False)\n",
    "            tick.label2.set_visible(False)\n",
    "\n",
    "\n",
    "    if not show_legend:\n",
    "        ax.legend([], [], frameon=False)\n",
    "    else:\n",
    "        handles, labels = ax.get_legend_handles_labels()\n",
    "        ax.legend(handles=handles[-3:], labels=labels[-3:], loc=legend_loc, prop={'weight':'bold', 'size':21}, frameon=True, labelspacing=0.2, borderpad=0.2, borderaxespad=0.0, framealpha=1, handletextpad=0.2)\n",
    "\n",
    "    # remove the unnecessary x label\n",
    "    plt.xlabel(\"\")\n",
    "\n",
    "    plt.subplots_adjust(bottom=0.35)\n",
    "    plt.tight_layout()\n",
    "    if not show_x_axis:\n",
    "        plt.subplots_adjust(bottom=0.05)\n",
    "    return ax, ax.get_figure()"
   ],
   "metadata": {
    "collapsed": false,
    "pycharm": {
     "name": "#%%\n"
    }
   },
   "outputs": []
  },
  {
   "cell_type": "code",
   "execution_count": null,
   "source": [
    "rows_to_keep_cifar = ['CIFAR-10', 'Fake CIFAR-10', 'AFHQ Cats', 'STL-10', 'CIFAR-100', 'SVHN', 'Permuted', 'Scaled']\n",
    "rows_to_keep_dogs = ['Stanford Dogs', 'Fake Dogs', 'AFHQ Dogs', 'AFHQ Cats', 'Permuted', 'Scaled']"
   ],
   "metadata": {
    "collapsed": false,
    "pycharm": {
     "name": "#%%\n"
    }
   },
   "outputs": []
  },
  {
   "cell_type": "markdown",
   "source": [
    "# Salem CNN Relu"
   ],
   "metadata": {
    "collapsed": false,
    "pycharm": {
     "name": "#%% md\n"
    }
   }
  },
  {
   "cell_type": "code",
   "execution_count": null,
   "source": [
    "salem_cnn_relu_uncalibrated_df = get_cleaned_dataframe(\n",
    "    '../results/salem_cnn_relu_cifar10_attack_results.csv',\n",
    "    is_cifar10=True,\n",
    "    rows_to_keep=rows_to_keep_cifar\n",
    ")\n",
    "salem_cnn_relu_uncalibrated_df = pd.melt(salem_cnn_relu_uncalibrated_df, id_vars=['Dataset'], var_name='Attack', value_name='FPR')\n",
    "\n",
    "print(\"LLLA\")\n",
    "salem_cnn_llla_calibrated_df = get_cleaned_dataframe(\n",
    "    '../results/salem_cnn_relu_cifar10_LLLA_attack_results.csv',\n",
    "    is_cifar10=True,\n",
    "    rows_to_keep=rows_to_keep_cifar\n",
    ")\n",
    "salem_cnn_llla_calibrated_df = pd.melt(salem_cnn_llla_calibrated_df, id_vars=['Dataset'], var_name='Attack', value_name='FPR')\n",
    "\n",
    "ax, fig = plot_dataframes(salem_cnn_relu_uncalibrated_df, salem_cnn_llla_calibrated_df, show_y_label=True, show_x_axis=True, show_y_axis=True, show_legend=False)\n",
    "fig = ax.get_figure()\n",
    "plt.show()\n",
    "fig.savefig('salem_cnn_relu_cifar10_LLLA_attack_results.pdf')\n",
    "\n",
    "ax, fig = plot_dataframes(salem_cnn_relu_uncalibrated_df, salem_cnn_llla_calibrated_df, show_y_label=False, show_x_axis=False, show_y_axis=False, show_legend=False)\n",
    "fig = ax.get_figure()\n",
    "plt.show()\n",
    "fig.savefig('salem_cnn_relu_cifar10_LLLA_attack_results_without_y_label_without_x_axis.pdf')\n",
    "\n",
    "print(\"Label Smoothing\")\n",
    "salem_cnn_relu_llla_calibrated_df = get_cleaned_dataframe(\n",
    "    '../results/salem_cnn_relu_cifar10_LS_0.0083_attack_results.csv',\n",
    "    is_cifar10=True,\n",
    "    rows_to_keep=rows_to_keep_cifar\n",
    ")\n",
    "salem_cnn_relu_llla_calibrated_df = pd.melt(salem_cnn_relu_llla_calibrated_df, id_vars=['Dataset'], var_name='Attack', value_name='FPR')\n",
    "\n",
    "ax, fig = plot_dataframes(salem_cnn_relu_uncalibrated_df, salem_cnn_relu_llla_calibrated_df, show_y_label=True, show_x_axis=False, show_y_axis=True, show_legend=False)\n",
    "fig = ax.get_figure()\n",
    "plt.show()\n",
    "fig.savefig('salem_cnn_relu_cifar10_LS_0.0083_attack_results.pdf')"
   ],
   "metadata": {
    "collapsed": false,
    "pycharm": {
     "name": "#%%\n"
    }
   },
   "outputs": []
  },
  {
   "cell_type": "markdown",
   "source": [
    "# Efficient Net\n"
   ],
   "metadata": {
    "collapsed": false,
    "pycharm": {
     "name": "#%% md\n"
    }
   }
  },
  {
   "cell_type": "code",
   "execution_count": null,
   "source": [
    "efficient_net_uncalibrated_df = get_cleaned_dataframe(\n",
    "    '../results/efficient_net_cifar10_attack_results.csv',\n",
    "    is_cifar10=True,\n",
    "    rows_to_keep=rows_to_keep_cifar\n",
    ")\n",
    "efficient_net_uncalibrated_df = pd.melt(efficient_net_uncalibrated_df, id_vars=['Dataset'], var_name='Attack', value_name='FPR')\n",
    "\n",
    "print(\"LLLA\")\n",
    "efficient_net_llla_calibrated_df = get_cleaned_dataframe(\n",
    "    '../results/efficient_net_cifar10_LLLA_attack_results.csv',\n",
    "    is_cifar10=True,\n",
    "    rows_to_keep=rows_to_keep_cifar\n",
    ")\n",
    "efficient_net_llla_calibrated_df = pd.melt(efficient_net_llla_calibrated_df, id_vars=['Dataset'], var_name='Attack', value_name='FPR')\n",
    "\n",
    "ax, fig = plot_dataframes(efficient_net_uncalibrated_df, efficient_net_llla_calibrated_df, show_y_label=False, show_x_axis=True, show_y_axis=False, show_legend=False)\n",
    "fig = ax.get_figure()\n",
    "plt.show()\n",
    "fig.savefig('efficient_net_cifar10_LLLA_attack_results.pdf')\n",
    "\n",
    "print(\"Label Smoothing\")\n",
    "efficient_net_ls_calibrated_df = get_cleaned_dataframe(\n",
    "    '../results/efficient_net_cifar10_LS_0.0083_attack_results.csv',\n",
    "    is_cifar10=True,\n",
    "    rows_to_keep=rows_to_keep_cifar\n",
    ")\n",
    "efficient_net_ls_calibrated_df = pd.melt(efficient_net_ls_calibrated_df, id_vars=['Dataset'], var_name='Attack', value_name='FPR')\n",
    "\n",
    "ax, fig = plot_dataframes(efficient_net_uncalibrated_df, efficient_net_ls_calibrated_df, show_legend=False, show_y_label=True, show_x_axis=True, show_y_axis=True)\n",
    "fig = ax.get_figure()\n",
    "plt.show()\n",
    "fig.savefig('efficient_net_cifar10_LS_0.0083_attack_results.pdf')"
   ],
   "metadata": {
    "collapsed": false,
    "pycharm": {
     "name": "#%%\n"
    }
   },
   "outputs": []
  },
  {
   "cell_type": "markdown",
   "source": [
    "# ResNet-18\n"
   ],
   "metadata": {
    "collapsed": false,
    "pycharm": {
     "name": "#%% md\n"
    }
   }
  },
  {
   "cell_type": "code",
   "execution_count": null,
   "source": [
    "resnet18_uncalibrated_df = get_cleaned_dataframe(\n",
    "    '../results/resnet18_cifar10_attack_results.csv',\n",
    "    is_cifar10=True,\n",
    "    rows_to_keep=rows_to_keep_cifar\n",
    ")\n",
    "resnet18_uncalibrated_df = pd.melt(resnet18_uncalibrated_df, id_vars=['Dataset'], var_name='Attack', value_name='FPR')\n",
    "\n",
    "print(\"LLLA\")\n",
    "resnet18_llla_calibrated_df = get_cleaned_dataframe(\n",
    "    '../results/resnet18_cifar10_LLLA_attack_results.csv',\n",
    "    is_cifar10=True,\n",
    "    rows_to_keep=rows_to_keep_cifar\n",
    ")\n",
    "resnet18_llla_calibrated_df = pd.melt(resnet18_llla_calibrated_df, id_vars=['Dataset'], var_name='Attack', value_name='FPR')\n",
    "\n",
    "ax, fig = plot_dataframes(resnet18_uncalibrated_df, resnet18_llla_calibrated_df, show_y_label=False, show_x_axis=True, show_y_axis=False, show_legend=False)\n",
    "fig = ax.get_figure()\n",
    "plt.show()\n",
    "fig.savefig('resnet18_cifar10_LLLA_attack_results.pdf')\n",
    "\n",
    "ax, fig = plot_dataframes(resnet18_uncalibrated_df, resnet18_llla_calibrated_df, show_y_label=False, show_x_axis=False, show_y_axis=False, show_legend=False)\n",
    "fig = ax.get_figure()\n",
    "plt.show()\n",
    "fig.savefig('resnet18_cifar10_LLLA_attack_results_without_x_axis.pdf')\n",
    "\n",
    "print(f\"Label Smoothing\")\n",
    "resnet18_ls_calibrated_df = get_cleaned_dataframe(\n",
    "    '../results/resnet18_cifar10_LS_0.0083_attack_results.csv',\n",
    "    is_cifar10=True,\n",
    "    rows_to_keep=rows_to_keep_cifar\n",
    ")\n",
    "resnet18_ls_calibrated_df = pd.melt(resnet18_ls_calibrated_df, id_vars=['Dataset'], var_name='Attack', value_name='FPR')\n",
    "\n",
    "ax, fig = plot_dataframes(resnet18_uncalibrated_df, resnet18_ls_calibrated_df, show_y_label=False, show_x_axis=False, show_y_axis=False, show_legend=False)\n",
    "fig = ax.get_figure()\n",
    "plt.show()\n",
    "fig.savefig('resnet18_cifar10_LS_0.0083_attack_results.pdf')\n",
    "\n",
    "ax, fig = plot_dataframes(resnet18_uncalibrated_df, resnet18_ls_calibrated_df, show_y_label=True, show_x_axis=False, show_y_axis=True, show_legend=True)\n",
    "fig = ax.get_figure()\n",
    "plt.show()\n",
    "fig.savefig('resnet18_cifar10_LS_0.0083_attack_results_with_y_labels.pdf')"
   ],
   "metadata": {
    "collapsed": false,
    "pycharm": {
     "name": "#%%\n"
    }
   },
   "outputs": []
  },
  {
   "cell_type": "markdown",
   "source": [
    "# ResNet-50"
   ],
   "metadata": {
    "collapsed": false,
    "pycharm": {
     "name": "#%% md\n"
    }
   }
  },
  {
   "cell_type": "code",
   "execution_count": null,
   "source": [
    "resnet50_uncalibrated_df = get_cleaned_dataframe(\n",
    "    '../results/resnet50_stanford_dogs_attack_results.csv',\n",
    "    is_cifar10=False,\n",
    "    rows_to_keep=rows_to_keep_dogs\n",
    ")\n",
    "resnet50_uncalibrated_df = pd.melt(resnet50_uncalibrated_df, id_vars=['Dataset'], var_name='Attack', value_name='FPR')\n",
    "\n",
    "print(\"LLLA\")\n",
    "resnet50_llla_calibrated_df = get_cleaned_dataframe(\n",
    "    '../results/resnet50_stanford_dogs_LLLA_attack_results.csv',\n",
    "    is_cifar10=False,\n",
    "    rows_to_keep=rows_to_keep_dogs\n",
    ")\n",
    "resnet50_llla_calibrated_df = pd.melt(resnet50_llla_calibrated_df, id_vars=['Dataset'], var_name='Attack', value_name='FPR')\n",
    "\n",
    "ax, fig = plot_dataframes(resnet50_uncalibrated_df, resnet50_llla_calibrated_df, show_y_label=True, show_x_axis=True, show_y_axis=True, show_legend=False)\n",
    "fig = ax.get_figure()\n",
    "plt.show()\n",
    "fig.savefig('resnet50_LLLA_attack_results.pdf')\n",
    "\n",
    "print(\"Label Smoothing\")\n",
    "resnet50_ls_calibrated_df = get_cleaned_dataframe(\n",
    "    '../results/resnet50_stanford_dogs_LS_0.1_attack_results.csv',\n",
    "    is_cifar10=False,\n",
    "    rows_to_keep=rows_to_keep_dogs\n",
    ")\n",
    "resnet50_ls_calibrated_df = pd.melt(resnet50_ls_calibrated_df, id_vars=['Dataset'], var_name='Attack', value_name='FPR')\n",
    "\n",
    "ax, fig = plot_dataframes(resnet50_uncalibrated_df, resnet50_ls_calibrated_df, show_y_label=True, show_x_axis=False, show_y_axis=True, show_legend=True)\n",
    "fig = ax.get_figure()\n",
    "plt.show()\n",
    "fig.savefig('resnet50_LS_attack_results.pdf')"
   ],
   "outputs": [],
   "metadata": {
    "collapsed": false,
    "pycharm": {
     "name": "#%%\n"
    }
   }
  },
  {
   "cell_type": "code",
   "execution_count": null,
   "outputs": [],
   "source": [],
   "metadata": {
    "collapsed": false,
    "pycharm": {
     "name": "#%%\n"
    }
   }
  }
 ],
 "metadata": {
  "kernelspec": {
   "name": "python3",
   "language": "python",
   "display_name": "Python 3"
  },
  "language_info": {
   "codemirror_mode": {
    "name": "ipython",
    "version": 3
   },
   "file_extension": ".py",
   "mimetype": "text/x-python",
   "name": "python",
   "nbconvert_exporter": "python",
   "pygments_lexer": "ipython3",
   "version": "3.7.7"
  },
  "metadata": {
   "interpreter": {
    "hash": "98b0a9b7b4eaaa670588a142fd0a9b87eaafe866f1db4228be72b4211d12040f"
   }
  }
 },
 "nbformat": 4,
 "nbformat_minor": 2
}